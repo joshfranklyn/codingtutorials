{
 "cells": [
  {
   "cell_type": "markdown",
   "metadata": {},
   "source": [
    "# Strings, Printing\n",
    "\n",
    "Are plain text (e.g. the text in double quotes above.)<br>\n",
    "\n"
   ]
  },
  {
   "cell_type": "code",
   "execution_count": 1,
   "metadata": {},
   "outputs": [
    {
     "name": "stdout",
     "output_type": "stream",
     "text": [
      "LineOne\n",
      "LineTwo\n",
      "LineOne\"LineTwo\n",
      "LineFour\n"
     ]
    }
   ],
   "source": [
    "print(\"LineOne\\nLineTwo\")\n",
    "\n",
    "\n",
    "print(\"LineOne\\\"LineTwo\")\n",
    "\n",
    "\n",
    "phrase = \"LineFour\"\n",
    "print(phrase)"
   ]
  },
  {
   "cell_type": "code",
   "execution_count": 3,
   "metadata": {},
   "outputs": [
    {
     "name": "stdout",
     "output_type": "stream",
     "text": [
      "Line Two\n"
     ]
    }
   ],
   "source": [
    "print(\"Line\" + \" \" + \"Two\") #String Concatenation"
   ]
  },
  {
   "cell_type": "markdown",
   "metadata": {},
   "source": [
    "# Input Function\n",
    "\n",
    "Prints a string to the console, then allowing the user to provide an input."
   ]
  },
  {
   "cell_type": "code",
   "execution_count": 5,
   "metadata": {},
   "outputs": [
    {
     "name": "stdout",
     "output_type": "stream",
     "text": [
      "Hello Josh\n"
     ]
    }
   ],
   "source": [
    "#Input provides the user's input in the console\n",
    "#Print function prints the word \"Hello\" and then the user input.\n",
    "print(\"Hello \" + input(\"What is your name?\"))"
   ]
  },
  {
   "cell_type": "markdown",
   "metadata": {},
   "source": [
    "### Printing amount of characters from user's input"
   ]
  },
  {
   "cell_type": "code",
   "execution_count": 1,
   "metadata": {},
   "outputs": [
    {
     "name": "stdout",
     "output_type": "stream",
     "text": [
      "4\n"
     ]
    }
   ],
   "source": [
    "print(len(input(\"What is your name?\"))) #Did first time without googling"
   ]
  },
  {
   "cell_type": "markdown",
   "metadata": {},
   "source": [
    "# Variables \n",
    "\n",
    "Containers to store data. Is easier to work with data using them<br>"
   ]
  },
  {
   "cell_type": "code",
   "execution_count": 2,
   "metadata": {},
   "outputs": [
    {
     "name": "stdout",
     "output_type": "stream",
     "text": [
      "In the Premier League, Emile Smith Rowe has 3 goals and 3 assists this season.\n"
     ]
    }
   ],
   "source": [
    "name = \"Emile Smith Rowe\"\n",
    "goals = \"3\"\n",
    "assists = \"3\"\n",
    "is_forward = True #boolean value\n",
    "\n",
    "print (\"In the Premier League, \" + name + \" has \" + goals + \" goals and \" + assists + \" assists this season.\")\n",
    "\n",
    "# When storing a number, don't always need the quotations"
   ]
  },
  {
   "cell_type": "markdown",
   "metadata": {},
   "source": [
    "When putting a variable, e.g. `name` at the front of input code, can store the user input.<br>\n",
    "If there was no name (variable) given to the data, wouldn't be able to refer to it in future.\n",
    "Can now see the data stored in the variable when using the name."
   ]
  },
  {
   "cell_type": "code",
   "execution_count": 6,
   "metadata": {},
   "outputs": [],
   "source": [
    "name = input(\"What is your name? \") # If i enter josh, it is stored as the varaible. "
   ]
  },
  {
   "cell_type": "code",
   "execution_count": 7,
   "metadata": {},
   "outputs": [
    {
     "name": "stdout",
     "output_type": "stream",
     "text": [
      "Josh\n"
     ]
    }
   ],
   "source": [
    "print(name)"
   ]
  },
  {
   "cell_type": "code",
   "execution_count": 8,
   "metadata": {},
   "outputs": [
    {
     "name": "stdout",
     "output_type": "stream",
     "text": [
      "Josh\n",
      "Joshua\n"
     ]
    }
   ],
   "source": []
  },
  {
   "cell_type": "code",
   "execution_count": 11,
   "metadata": {},
   "outputs": [
    {
     "name": "stdout",
     "output_type": "stream",
     "text": [
      "Josh\n",
      "Joshua\n",
      "6\n"
     ]
    }
   ],
   "source": [
    "name = \"Josh\"\n",
    "print(name)\n",
    "\n",
    "name = \"Joshua\"\n",
    "print(name)\n",
    "\n",
    "#Printing length of characters using different variables.\n",
    "name = input(\"What is your name? \") # creating 'name' variable with user input for their name (Josh F)\n",
    "length = len(name) # creating length variable which contains len function, amount of characters in the `name` variable\n",
    "print(length)"
   ]
  },
  {
   "cell_type": "code",
   "execution_count": null,
   "metadata": {},
   "outputs": [],
   "source": []
  }
 ],
 "metadata": {
  "interpreter": {
   "hash": "dd91f0b4828dce5d53bdac1582cf88369020ea09ea70cc87beaca0f6a0fe11cd"
  },
  "kernelspec": {
   "display_name": "Python 3.9.2 64-bit ('geo_env': conda)",
   "language": "python",
   "name": "python3"
  },
  "language_info": {
   "codemirror_mode": {
    "name": "ipython",
    "version": 3
   },
   "file_extension": ".py",
   "mimetype": "text/x-python",
   "name": "python",
   "nbconvert_exporter": "python",
   "pygments_lexer": "ipython3",
   "version": "3.9.2"
  },
  "orig_nbformat": 4
 },
 "nbformat": 4,
 "nbformat_minor": 2
}
