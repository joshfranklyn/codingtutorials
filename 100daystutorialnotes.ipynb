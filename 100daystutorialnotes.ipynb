{
 "cells": [
  {
   "cell_type": "markdown",
   "metadata": {},
   "source": [
    "# Strings, Printing\n",
    "\n",
    "Are plain text (e.g. the text in double quotes above.)<br>\n",
    "\n"
   ]
  },
  {
   "cell_type": "code",
   "execution_count": null,
   "metadata": {},
   "outputs": [
    {
     "name": "stdout",
     "output_type": "stream",
     "text": [
      "LineOne\n",
      "LineTwo\n",
      "LineOne\"LineTwo\n",
      "LineFour\n"
     ]
    }
   ],
   "source": [
    "print(\"LineOne\\nLineTwo\")\n",
    "\n",
    "\n",
    "print(\"LineOne\\\"LineTwo\")\n",
    "\n",
    "\n",
    "phrase = \"LineFour\"\n",
    "print(phrase)"
   ]
  },
  {
   "cell_type": "code",
   "execution_count": null,
   "metadata": {},
   "outputs": [
    {
     "name": "stdout",
     "output_type": "stream",
     "text": [
      "Line Two\n"
     ]
    }
   ],
   "source": [
    "print(\"Line\" + \" \" + \"Two\") #String Concatenation"
   ]
  },
  {
   "cell_type": "markdown",
   "metadata": {},
   "source": [
    "# Input Function\n",
    "\n",
    "Prints a string to the console, then allowing the user to provide an input."
   ]
  },
  {
   "cell_type": "code",
   "execution_count": 10,
   "metadata": {},
   "outputs": [
    {
     "name": "stdout",
     "output_type": "stream",
     "text": [
      "Hello Josh\n"
     ]
    }
   ],
   "source": [
    "#Input provides the user's input in the console\n",
    "#Print function prints the word \"Hello\" and then the user input.\n",
    "print(\"Hello \" + input(\"What is your name?\"))"
   ]
  },
  {
   "cell_type": "markdown",
   "metadata": {},
   "source": [
    "### Printing amount of characters from user's input"
   ]
  },
  {
   "cell_type": "code",
   "execution_count": 11,
   "metadata": {},
   "outputs": [],
   "source": [
    "print(len(input(\"What is your name?\"))) #Did first time without googling"
   ]
  },
  {
   "cell_type": "markdown",
   "metadata": {},
   "source": [
    "# Variables \n",
    "\n",
    "Containers to store data. Is easier to work with data using them<br>"
   ]
  },
  {
   "cell_type": "code",
   "execution_count": null,
   "metadata": {},
   "outputs": [
    {
     "name": "stdout",
     "output_type": "stream",
     "text": [
      "In the Premier League, Emile Smith Rowe has 3 goals and 3 assists this season.\n"
     ]
    }
   ],
   "source": [
    "name = \"Emile Smith Rowe\"\n",
    "goals = \"3\"\n",
    "assists = \"3\"\n",
    "is_forward = True #boolean value\n",
    "\n",
    "print (\"In the Premier League, \" + name + \" has \" + goals + \" goals and \" + assists + \" assists this season.\")\n",
    "\n",
    "# When storing a number, don't always need the quotations"
   ]
  },
  {
   "cell_type": "markdown",
   "metadata": {},
   "source": [
    "When putting a variable, e.g. `name` at the front of input code, can store the user input.<br>\n",
    "If there was no name (variable) given to the data, wouldn't be able to refer to it in future.\n",
    "Can now see the data stored in the variable when using the name."
   ]
  },
  {
   "cell_type": "code",
   "execution_count": null,
   "metadata": {},
   "outputs": [],
   "source": [
    "name = input(\"What is your name? \") # If i enter josh, it is stored as the varaible. "
   ]
  },
  {
   "cell_type": "code",
   "execution_count": null,
   "metadata": {},
   "outputs": [
    {
     "name": "stdout",
     "output_type": "stream",
     "text": [
      "Josh\n"
     ]
    }
   ],
   "source": [
    "print(name)"
   ]
  },
  {
   "cell_type": "code",
   "execution_count": null,
   "metadata": {},
   "outputs": [
    {
     "name": "stdout",
     "output_type": "stream",
     "text": [
      "Josh\n",
      "Joshua\n",
      "6\n"
     ]
    }
   ],
   "source": [
    "name = \"Josh\"\n",
    "print(name)\n",
    "\n",
    "name = \"Joshua\"\n",
    "print(name)\n",
    "\n",
    "#Printing length of characters using different variables.\n",
    "name = input(\"What is your name? \") # creating 'name' variable with user input for their name (Josh F)\n",
    "length = len(name) # creating length variable which contains len function, amount of characters in the `name` variable\n",
    "print(length)"
   ]
  },
  {
   "cell_type": "markdown",
   "metadata": {},
   "source": [
    "## Switching Variables Exercise"
   ]
  },
  {
   "cell_type": "code",
   "execution_count": null,
   "metadata": {},
   "outputs": [
    {
     "name": "stdout",
     "output_type": "stream",
     "text": [
      "a: 3\n",
      "b: 5\n"
     ]
    }
   ],
   "source": [
    "a = input(\"a: \") # 5\n",
    "b = input(\"b: \") # 3\n",
    "\n",
    "c = a # creating new c variable for a(5)\n",
    "a = b # 5 = 2, switching a to b\n",
    "b = c # swtiching b (3) to c which contained a(5)\n",
    "\n",
    "print(\"a: \" + a)\n",
    "print(\"b: \" + b)"
   ]
  },
  {
   "cell_type": "markdown",
   "metadata": {},
   "source": [
    "## Variable Naming Rules\n",
    "\n",
    "- No Spaces<br>\n",
    "- No numbers at start of variable name<br>\n",
    "- Underscores useful<br>\n",
    "- Mispellings will provide a NameError, so check for this\n"
   ]
  },
  {
   "cell_type": "markdown",
   "metadata": {},
   "source": [
    "## Band Name Generator Exercise"
   ]
  },
  {
   "cell_type": "code",
   "execution_count": null,
   "metadata": {},
   "outputs": [
    {
     "name": "stdout",
     "output_type": "stream",
     "text": [
      "Welcome to the Band Name Generator.\n",
      "Your Band Name could be Auckland Max.\n"
     ]
    }
   ],
   "source": [
    "#1. Create a greeting for your program.\n",
    "print(\"Welcome to the Band Name Generator.\")\n",
    "#2. Ask the user for the city that they grew up in.\n",
    "user_city = input(\"What city did you grow up in?\\n\") # \\n creates input on new line\n",
    "#3. Ask the user for the name of a pet.\n",
    "user_pet = input(\"What is the name of your pet?\\n\")\n",
    "#4. Combine the name of their city and pet and show them their band name.\n",
    "band_name = user_city + user_pet\n",
    "print(\"Your Band Name could be \" + user_city + \" \" + user_pet + \".\")"
   ]
  },
  {
   "cell_type": "markdown",
   "metadata": {},
   "source": [
    "## Primitive Data Types\n",
    "\n",
    "Already learnt about strings, however there are many more data types.<br>\n",
    "Int, Float, Boolean for example.<br>\n",
    "Can use underscores instead of commas for large numbers, `123_456_789` purely aesthetic, easier for users to read\n",
    "\n"
   ]
  },
  {
   "cell_type": "code",
   "execution_count": null,
   "metadata": {},
   "outputs": [],
   "source": [
    "# String\n",
    "print(\"hello\"[0]) # Python starts from 0\n",
    "# Pulling an element from a string called a subscript.\n",
    "print(\"hello\"[4]) # prints o (5th letter)\n",
    "\"123\" + \"345\" # if within quotes, treated as string, not int.\n",
    "\n",
    "# Will print the values rather than add them."
   ]
  },
  {
   "cell_type": "code",
   "execution_count": null,
   "metadata": {},
   "outputs": [],
   "source": [
    "# Integer (whole numbers without decimal places.)\n",
    "print(123 + 345) # prints 468. \n",
    "123_456_789 # can have underscores to make easier to read, python ignores them. "
   ]
  },
  {
   "cell_type": "code",
   "execution_count": null,
   "metadata": {},
   "outputs": [],
   "source": [
    "# Float (Numbers with decimal points, not whole)\n",
    "3.14159 #pi\n",
    "\n",
    "#Boolean (true or false)\n",
    "True\n",
    "False"
   ]
  },
  {
   "cell_type": "code",
   "execution_count": 7,
   "metadata": {},
   "outputs": [
    {
     "ename": "TypeError",
     "evalue": "can only concatenate str (not \"int\") to str",
     "output_type": "error",
     "traceback": [
      "\u001b[1;31m---------------------------------------------------------------------------\u001b[0m",
      "\u001b[1;31mTypeError\u001b[0m                                 Traceback (most recent call last)",
      "\u001b[1;32m<ipython-input-7-9fc2d082d4cb>\u001b[0m in \u001b[0;36m<module>\u001b[1;34m\u001b[0m\n\u001b[0;32m      1\u001b[0m \u001b[0mnum_char\u001b[0m \u001b[1;33m=\u001b[0m \u001b[0mlen\u001b[0m\u001b[1;33m(\u001b[0m\u001b[0minput\u001b[0m\u001b[1;33m(\u001b[0m\u001b[1;34m\"What is your name?\"\u001b[0m\u001b[1;33m)\u001b[0m\u001b[1;33m)\u001b[0m\u001b[1;33m\u001b[0m\u001b[1;33m\u001b[0m\u001b[0m\n\u001b[1;32m----> 2\u001b[1;33m \u001b[0mprint\u001b[0m\u001b[1;33m(\u001b[0m\u001b[1;34m\"Your name has \"\u001b[0m \u001b[1;33m+\u001b[0m \u001b[0mnum_char\u001b[0m \u001b[1;33m+\u001b[0m \u001b[1;34m\" characters.\"\u001b[0m\u001b[1;33m)\u001b[0m\u001b[1;33m\u001b[0m\u001b[1;33m\u001b[0m\u001b[0m\n\u001b[0m",
      "\u001b[1;31mTypeError\u001b[0m: can only concatenate str (not \"int\") to str"
     ]
    }
   ],
   "source": [
    "num_char = len(input(\"What is your name?\"))\n",
    "print(\"Your name has \" + num_char + \" characters.\") # won't work, as it is an int. "
   ]
  },
  {
   "cell_type": "code",
   "execution_count": null,
   "metadata": {},
   "outputs": [
    {
     "name": "stdout",
     "output_type": "stream",
     "text": [
      "Your name has 4 characters.\n"
     ]
    }
   ],
   "source": [
    "#can convert into new variable\n",
    "new_num_char = str(num_char)\n",
    "#can check the data type.\n",
    "type(new_num_char) \n",
    "# is a a str now. can now concatenate str to str. \n",
    "print(\"Your name has \" + new_num_char + \" characters.\")"
   ]
  },
  {
   "cell_type": "code",
   "execution_count": null,
   "metadata": {},
   "outputs": [],
   "source": []
  },
  {
   "cell_type": "code",
   "execution_count": null,
   "metadata": {},
   "outputs": [],
   "source": []
  }
 ],
 "metadata": {
  "interpreter": {
   "hash": "dd91f0b4828dce5d53bdac1582cf88369020ea09ea70cc87beaca0f6a0fe11cd"
  },
  "kernelspec": {
   "display_name": "Python 3.9.2 64-bit ('geo_env': conda)",
   "language": "python",
   "name": "python3"
  },
  "language_info": {
   "codemirror_mode": {
    "name": "ipython",
    "version": 3
   },
   "file_extension": ".py",
   "mimetype": "text/x-python",
   "name": "python",
   "nbconvert_exporter": "python",
   "pygments_lexer": "ipython3",
   "version": "3.9.2"
  },
  "orig_nbformat": 4
 },
 "nbformat": 4,
 "nbformat_minor": 2
}
