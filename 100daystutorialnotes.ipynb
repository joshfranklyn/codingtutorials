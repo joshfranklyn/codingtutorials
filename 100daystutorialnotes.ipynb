{
 "cells": [
  {
   "cell_type": "markdown",
   "metadata": {},
   "source": [
    "# Variables \n",
    "\n",
    "Containers to store data. Is easier to work with data using them<br>"
   ]
  },
  {
   "cell_type": "code",
   "execution_count": 8,
   "metadata": {},
   "outputs": [
    {
     "name": "stdout",
     "output_type": "stream",
     "text": [
      "In the Premier League, Emile Smith Rowe has 3 goals and 3 assists this season.\n"
     ]
    }
   ],
   "source": [
    "name = \"Emile Smith Rowe\"\n",
    "goals = \"3\"\n",
    "assists = \"3\"\n",
    "is_forward = True #boolean value\n",
    "\n",
    "print (\"In the Premier League, \" + name + \" has \" + goals + \" goals and \" + assists + \" assists this season.\")\n",
    "\n",
    "# When storing a number, don't always need the quotations"
   ]
  },
  {
   "cell_type": "markdown",
   "metadata": {},
   "source": [
    "# Strings, Printing\n",
    "\n",
    "Are plain text (e.g. the text in double quotes above.)<br>\n",
    "\n"
   ]
  },
  {
   "cell_type": "code",
   "execution_count": 12,
   "metadata": {},
   "outputs": [
    {
     "name": "stdout",
     "output_type": "stream",
     "text": [
      "LineOne\n",
      "LineTwo\n",
      "LineOne\"LineTwo\n",
      "LineFour\n"
     ]
    }
   ],
   "source": [
    "print(\"LineOne\\nLineTwo\")\n",
    "\n",
    "print(\"LineOne\\\"LineTwo\")\n",
    "\n",
    "phrase = \"LineFour\"\n",
    "print(phrase)"
   ]
  },
  {
   "cell_type": "code",
   "execution_count": null,
   "metadata": {},
   "outputs": [],
   "source": []
  }
 ],
 "metadata": {
  "interpreter": {
   "hash": "dd91f0b4828dce5d53bdac1582cf88369020ea09ea70cc87beaca0f6a0fe11cd"
  },
  "kernelspec": {
   "display_name": "Python 3.9.2 64-bit ('geo_env': conda)",
   "language": "python",
   "name": "python3"
  },
  "language_info": {
   "codemirror_mode": {
    "name": "ipython",
    "version": 3
   },
   "file_extension": ".py",
   "mimetype": "text/x-python",
   "name": "python",
   "nbconvert_exporter": "python",
   "pygments_lexer": "ipython3",
   "version": "3.9.2"
  },
  "orig_nbformat": 4
 },
 "nbformat": 4,
 "nbformat_minor": 2
}
