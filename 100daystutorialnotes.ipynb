{
 "cells": [
  {
   "cell_type": "markdown",
   "metadata": {},
   "source": [
    "# Strings, Printing\n",
    "\n",
    "Are plain text (e.g. the text in double quotes above.)<br>\n",
    "\n"
   ]
  },
  {
   "cell_type": "code",
   "execution_count": 22,
   "metadata": {},
   "outputs": [
    {
     "name": "stdout",
     "output_type": "stream",
     "text": [
      "LineOne\n",
      "LineTwo\n",
      "LineOne\"LineTwo\n",
      "LineFour\n"
     ]
    }
   ],
   "source": [
    "print(\"LineOne\\nLineTwo\")\n",
    "\n",
    "\n",
    "print(\"LineOne\\\"LineTwo\")\n",
    "\n",
    "\n",
    "phrase = \"LineFour\"\n",
    "print(phrase)"
   ]
  },
  {
   "cell_type": "code",
   "execution_count": 23,
   "metadata": {},
   "outputs": [
    {
     "name": "stdout",
     "output_type": "stream",
     "text": [
      "Line Two\n"
     ]
    }
   ],
   "source": [
    "print(\"Line\" + \" \" + \"Two\") #String Concatenation"
   ]
  },
  {
   "cell_type": "markdown",
   "metadata": {},
   "source": [
    "# Input Function\n",
    "\n",
    "Prints a string to the console, then allowing the user to provide an input."
   ]
  },
  {
   "cell_type": "code",
   "execution_count": 10,
   "metadata": {},
   "outputs": [
    {
     "name": "stdout",
     "output_type": "stream",
     "text": [
      "Hello Josh\n"
     ]
    }
   ],
   "source": [
    "#Input provides the user's input in the console\n",
    "#Print function prints the word \"Hello\" and then the user input.\n",
    "print(\"Hello \" + input(\"What is your name?\"))"
   ]
  },
  {
   "cell_type": "markdown",
   "metadata": {},
   "source": [
    "### Printing amount of characters from user's input"
   ]
  },
  {
   "cell_type": "code",
   "execution_count": 11,
   "metadata": {},
   "outputs": [
    {
     "name": "stdout",
     "output_type": "stream",
     "text": [
      "0\n"
     ]
    }
   ],
   "source": [
    "print(len(input(\"What is your name?\"))) #Did first time without googling"
   ]
  },
  {
   "cell_type": "markdown",
   "metadata": {},
   "source": [
    "# Variables \n",
    "\n",
    "Containers to store data. Is easier to work with data using them<br>"
   ]
  },
  {
   "cell_type": "code",
   "execution_count": 12,
   "metadata": {},
   "outputs": [
    {
     "name": "stdout",
     "output_type": "stream",
     "text": [
      "In the Premier League, Emile Smith Rowe has 3 goals and 3 assists this season.\n"
     ]
    }
   ],
   "source": [
    "name = \"Emile Smith Rowe\"\n",
    "goals = \"3\"\n",
    "assists = \"3\"\n",
    "is_forward = True #boolean value\n",
    "\n",
    "print (\"In the Premier League, \" + name + \" has \" + goals + \" goals and \" + assists + \" assists this season.\")\n",
    "\n",
    "# When storing a number, don't always need the quotations"
   ]
  },
  {
   "cell_type": "markdown",
   "metadata": {},
   "source": [
    "When putting a variable, e.g. `name` at the front of input code, can store the user input.<br>\n",
    "If there was no name (variable) given to the data, wouldn't be able to refer to it in future.\n",
    "Can now see the data stored in the variable when using the name."
   ]
  },
  {
   "cell_type": "code",
   "execution_count": 13,
   "metadata": {},
   "outputs": [],
   "source": [
    "name = input(\"What is your name? \") # If i enter josh, it is stored as the varaible. "
   ]
  },
  {
   "cell_type": "code",
   "execution_count": 14,
   "metadata": {},
   "outputs": [
    {
     "name": "stdout",
     "output_type": "stream",
     "text": [
      "\n"
     ]
    }
   ],
   "source": [
    "print(name)"
   ]
  },
  {
   "cell_type": "code",
   "execution_count": 15,
   "metadata": {},
   "outputs": [
    {
     "name": "stdout",
     "output_type": "stream",
     "text": [
      "Josh\n",
      "Joshua\n",
      "0\n"
     ]
    }
   ],
   "source": [
    "name = \"Josh\"\n",
    "print(name)\n",
    "\n",
    "name = \"Joshua\"\n",
    "print(name)\n",
    "\n",
    "#Printing length of characters using different variables.\n",
    "name = input(\"What is your name? \") # creating 'name' variable with user input for their name (Josh F)\n",
    "length = len(name) # creating length variable which contains len function, amount of characters in the `name` variable\n",
    "print(length)"
   ]
  },
  {
   "cell_type": "markdown",
   "metadata": {},
   "source": [
    "## Switching Variables Exercise"
   ]
  },
  {
   "cell_type": "code",
   "execution_count": 16,
   "metadata": {},
   "outputs": [
    {
     "name": "stdout",
     "output_type": "stream",
     "text": [
      "a: \n",
      "b: \n"
     ]
    }
   ],
   "source": [
    "a = input(\"a: \") # 5\n",
    "b = input(\"b: \") # 3\n",
    "\n",
    "c = a # creating new c variable for a(5)\n",
    "a = b # 5 = 2, switching a to b\n",
    "b = c # swtiching b (3) to c which contained a(5)\n",
    "\n",
    "print(\"a: \" + a)\n",
    "print(\"b: \" + b)"
   ]
  },
  {
   "cell_type": "markdown",
   "metadata": {},
   "source": [
    "## Variable Naming Rules\n",
    "\n",
    "- No Spaces<br>\n",
    "- No numbers at start of variable name<br>\n",
    "- Underscores useful<br>\n",
    "- Mispellings will provide a NameError, so check for this\n"
   ]
  },
  {
   "cell_type": "markdown",
   "metadata": {},
   "source": [
    "## Band Name Generator Exercise"
   ]
  },
  {
   "cell_type": "code",
   "execution_count": 17,
   "metadata": {},
   "outputs": [
    {
     "name": "stdout",
     "output_type": "stream",
     "text": [
      "Welcome to the Band Name Generator.\n",
      "Your Band Name could be  .\n"
     ]
    }
   ],
   "source": [
    "#1. Create a greeting for your program.\n",
    "print(\"Welcome to the Band Name Generator.\")\n",
    "#2. Ask the user for the city that they grew up in.\n",
    "user_city = input(\"What city did you grow up in?\\n\") # \\n creates input on new line\n",
    "#3. Ask the user for the name of a pet.\n",
    "user_pet = input(\"What is the name of your pet?\\n\")\n",
    "#4. Combine the name of their city and pet and show them their band name.\n",
    "band_name = user_city + user_pet\n",
    "print(\"Your Band Name could be \" + user_city + \" \" + user_pet + \".\")"
   ]
  },
  {
   "cell_type": "markdown",
   "metadata": {},
   "source": [
    "## Primitive Data Types\n",
    "\n",
    "Already learnt about strings, however there are many more data types.<br>\n",
    "Int, Float, Boolean for example.<br>\n",
    "Can use underscores instead of commas for large numbers, `123_456_789` purely aesthetic, easier for users to read\n",
    "\n"
   ]
  },
  {
   "cell_type": "code",
   "execution_count": 18,
   "metadata": {},
   "outputs": [
    {
     "name": "stdout",
     "output_type": "stream",
     "text": [
      "h\n",
      "o\n"
     ]
    },
    {
     "data": {
      "text/plain": [
       "'123345'"
      ]
     },
     "execution_count": 18,
     "metadata": {},
     "output_type": "execute_result"
    }
   ],
   "source": [
    "# String\n",
    "print(\"hello\"[0]) # Python starts from 0\n",
    "# Pulling an element from a string called a subscript.\n",
    "print(\"hello\"[4]) # prints o (5th letter)\n",
    "\"123\" + \"345\" # if within quotes, treated as string, not int.\n",
    "\n",
    "# Will print the values rather than add them."
   ]
  },
  {
   "cell_type": "code",
   "execution_count": 19,
   "metadata": {},
   "outputs": [
    {
     "name": "stdout",
     "output_type": "stream",
     "text": [
      "468\n"
     ]
    },
    {
     "data": {
      "text/plain": [
       "123456789"
      ]
     },
     "execution_count": 19,
     "metadata": {},
     "output_type": "execute_result"
    }
   ],
   "source": [
    "# Integer (whole numbers without decimal places.)\n",
    "print(123 + 345) # prints 468. \n",
    "123_456_789 # can have underscores to make easier to read, python ignores them. "
   ]
  },
  {
   "cell_type": "code",
   "execution_count": 20,
   "metadata": {},
   "outputs": [
    {
     "data": {
      "text/plain": [
       "False"
      ]
     },
     "execution_count": 20,
     "metadata": {},
     "output_type": "execute_result"
    }
   ],
   "source": [
    "# Float (Numbers with decimal points, not whole)\n",
    "3.14159 #pi\n",
    "\n",
    "#Boolean (true or false)\n",
    "True\n",
    "False"
   ]
  },
  {
   "cell_type": "markdown",
   "metadata": {},
   "source": [
    "## Changing data types\n",
    "\n",
    "Changing data types can be useful if encountering a TypeError."
   ]
  },
  {
   "cell_type": "code",
   "execution_count": 7,
   "metadata": {},
   "outputs": [
    {
     "ename": "TypeError",
     "evalue": "can only concatenate str (not \"int\") to str",
     "output_type": "error",
     "traceback": [
      "\u001b[1;31m---------------------------------------------------------------------------\u001b[0m",
      "\u001b[1;31mTypeError\u001b[0m                                 Traceback (most recent call last)",
      "\u001b[1;32m<ipython-input-7-9fc2d082d4cb>\u001b[0m in \u001b[0;36m<module>\u001b[1;34m\u001b[0m\n\u001b[0;32m      1\u001b[0m \u001b[0mnum_char\u001b[0m \u001b[1;33m=\u001b[0m \u001b[0mlen\u001b[0m\u001b[1;33m(\u001b[0m\u001b[0minput\u001b[0m\u001b[1;33m(\u001b[0m\u001b[1;34m\"What is your name?\"\u001b[0m\u001b[1;33m)\u001b[0m\u001b[1;33m)\u001b[0m\u001b[1;33m\u001b[0m\u001b[1;33m\u001b[0m\u001b[0m\n\u001b[1;32m----> 2\u001b[1;33m \u001b[0mprint\u001b[0m\u001b[1;33m(\u001b[0m\u001b[1;34m\"Your name has \"\u001b[0m \u001b[1;33m+\u001b[0m \u001b[0mnum_char\u001b[0m \u001b[1;33m+\u001b[0m \u001b[1;34m\" characters.\"\u001b[0m\u001b[1;33m)\u001b[0m\u001b[1;33m\u001b[0m\u001b[1;33m\u001b[0m\u001b[0m\n\u001b[0m",
      "\u001b[1;31mTypeError\u001b[0m: can only concatenate str (not \"int\") to str"
     ]
    }
   ],
   "source": [
    "num_char = len(input(\"What is your name?\"))\n",
    "# print(\"Your name has \" + num_char + \" characters.\") \n",
    "# won't work, as it is an int. "
   ]
  },
  {
   "cell_type": "markdown",
   "metadata": {},
   "source": [
    "### Changing data types of variables"
   ]
  },
  {
   "cell_type": "code",
   "execution_count": 28,
   "metadata": {},
   "outputs": [
    {
     "name": "stdout",
     "output_type": "stream",
     "text": [
      "Your name has 4 characters.\n"
     ]
    }
   ],
   "source": [
    "#can convert into new type\n",
    "new_num_char = str(num_char) #this line of code shows how to change data types of variables\n",
    "#can check the data type.\n",
    "type(new_num_char) \n",
    "# is a a str now. can now concatenate str to str. \n",
    "print(\"Your name has \" + new_num_char + \" characters.\") #works as printing the same data type now."
   ]
  },
  {
   "cell_type": "code",
   "execution_count": 26,
   "metadata": {},
   "outputs": [
    {
     "name": "stdout",
     "output_type": "stream",
     "text": [
      "<class 'int'>\n",
      "<class 'str'>\n"
     ]
    }
   ],
   "source": [
    "a = 123\n",
    "print(type(a))\n",
    "\n",
    "a = str(123)\n",
    "print(type(a))"
   ]
  },
  {
   "cell_type": "markdown",
   "metadata": {},
   "source": [
    "## Another example of switching data types"
   ]
  },
  {
   "cell_type": "code",
   "execution_count": 27,
   "metadata": {},
   "outputs": [
    {
     "name": "stdout",
     "output_type": "stream",
     "text": [
      "170.5\n",
      "70100\n"
     ]
    }
   ],
   "source": [
    "print(70 + float(\"100.5\")) # The value is treated as a float (number) even in strings, \n",
    "# as it has been converted into a float. \n",
    "print(str(70) + str(100)) # as converted to str, just puts the numbers next to eachother.\n",
    "\n"
   ]
  },
  {
   "cell_type": "markdown",
   "metadata": {},
   "source": [
    "Can use type function to see what data types are being used, then use functions such as `str` or `float` to convert data types."
   ]
  },
  {
   "cell_type": "markdown",
   "metadata": {},
   "source": [
    "## Data Types Manipulation Exercise"
   ]
  },
  {
   "cell_type": "code",
   "execution_count": 32,
   "metadata": {},
   "outputs": [
    {
     "name": "stdout",
     "output_type": "stream",
     "text": [
      "<class 'str'>\n",
      "7\n"
     ]
    }
   ],
   "source": [
    "# 🚨 Don't change the code below 👇\n",
    "two_digit_number = input(\"Type a two digit number: \")\n",
    "# 🚨 Don't change the code above 👆\n",
    "\n",
    "####################################\n",
    "#Write your code below this line 👇\n",
    "print(type(two_digit_number)) #SHOULD CHECK DATA TYPE in this case, string\n",
    "\n",
    "first_number = two_digit_number[0] # subscripting first number from user input \n",
    "second_number = two_digit_number[1] # subscripting second number from user input \n",
    "result = int(first_number) + int(second_number) # Creating variable that contains changes from str's to ints,\n",
    "# so they can be added together.\n",
    "\n",
    "# Could also change the values to ints earlier on, e.g. first_number = int(two_digit_number[0])\n",
    " \n",
    "print(result)"
   ]
  },
  {
   "cell_type": "markdown",
   "metadata": {},
   "source": [
    "## Mathematical Operations in Python\n",
    "\n",
    "- Dividing always provides a float data type<br>\n",
    "- Double asterix is for exponents<br>\n"
   ]
  },
  {
   "cell_type": "code",
   "execution_count": 34,
   "metadata": {},
   "outputs": [
    {
     "name": "stdout",
     "output_type": "stream",
     "text": [
      "256\n"
     ]
    }
   ],
   "source": [
    "3 + 5\n",
    "7 - 4\n",
    "3 * 2\n",
    "6 / 3 # Dividing always provides float (2.0)\n",
    "\n",
    "print(2**8) # Double asterix gives you exponent\n"
   ]
  },
  {
   "cell_type": "code",
   "execution_count": 37,
   "metadata": {},
   "outputs": [
    {
     "name": "stdout",
     "output_type": "stream",
     "text": [
      "7.0\n",
      "3.0\n"
     ]
    }
   ],
   "source": [
    "# PEMDAS(LR) Order\n",
    "# ()\n",
    "# **\n",
    "# * /\n",
    "# + - \n",
    "# order on each line starts on left. \n",
    "\n",
    "print(3 * 3 + 3 / 3 - 3)\n",
    "# does 3*3, then 3/3 (gives 9+1), then takes off the 3 at the end. 7.0\n",
    "print(3 * (3 + 3) / 3 - 3)\n",
    "# just by isolating the 3+3 and giving it higher priority, can change answer to 3. \n"
   ]
  },
  {
   "cell_type": "markdown",
   "metadata": {},
   "source": []
  }
 ],
 "metadata": {
  "interpreter": {
   "hash": "dd91f0b4828dce5d53bdac1582cf88369020ea09ea70cc87beaca0f6a0fe11cd"
  },
  "kernelspec": {
   "display_name": "Python 3.9.2 64-bit ('geo_env': conda)",
   "language": "python",
   "name": "python3"
  },
  "language_info": {
   "codemirror_mode": {
    "name": "ipython",
    "version": 3
   },
   "file_extension": ".py",
   "mimetype": "text/x-python",
   "name": "python",
   "nbconvert_exporter": "python",
   "pygments_lexer": "ipython3",
   "version": "3.9.2"
  },
  "orig_nbformat": 4
 },
 "nbformat": 4,
 "nbformat_minor": 2
}
