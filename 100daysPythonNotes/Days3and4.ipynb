{
 "cells": [
  {
   "cell_type": "markdown",
   "metadata": {},
   "source": [
    "# Days 2 and 3 Notes"
   ]
  },
  {
   "cell_type": "markdown",
   "metadata": {},
   "source": [
    "Day 2: Conditional Statements, Logical Operators, Code Blocks, Scope"
   ]
  },
  {
   "cell_type": "code",
   "execution_count": 4,
   "metadata": {},
   "outputs": [
    {
     "name": "stdout",
     "output_type": "stream",
     "text": [
      "Continue\n"
     ]
    }
   ],
   "source": [
    "#bath overflow example\n",
    "\n",
    "water_level = 50\n",
    "\n",
    "if water_level > 80:\n",
    "    print(\"drain water\")\n",
    "else: \n",
    "    print(\"Continue\")"
   ]
  },
  {
   "cell_type": "code",
   "execution_count": null,
   "metadata": {},
   "outputs": [],
   "source": [
    "height = int(input(\"What is your height in cm? \"))\n",
    "\n",
    "if height >= 120: # OR ==, !=\n",
    "  print(\"You are allowed on the rollercoaster.\")\n",
    "else: \n",
    "  print(\"You must grow taller before you can ride.\")\n",
    "# the 'print' bits of code are part of the if/else statements. "
   ]
  },
  {
   "cell_type": "markdown",
   "metadata": {},
   "source": [
    "One equals sign means assigning a variable,<br>\n",
    "Two means checking for equality/equals.<br>\n",
    "\n",
    "equal to (==), not equal to (!=)<br>\n"
   ]
  },
  {
   "cell_type": "code",
   "execution_count": null,
   "metadata": {},
   "outputs": [],
   "source": []
  },
  {
   "cell_type": "markdown",
   "metadata": {},
   "source": [
    "Using if/else statements allows us to do different things, respond differently depending on different conditions. "
   ]
  },
  {
   "cell_type": "markdown",
   "metadata": {},
   "source": [
    "## Odd Number Checker"
   ]
  },
  {
   "cell_type": "code",
   "execution_count": null,
   "metadata": {},
   "outputs": [],
   "source": [
    "number = int(input(\"Which number do you want to check? \"))\n",
    "\n",
    "if (number % 2) == 0:\n",
    "  print(\"This number is even\")\n",
    "else:\n",
    "  print(\"This number is odd\")"
   ]
  },
  {
   "cell_type": "markdown",
   "metadata": {},
   "source": [
    "### Nested if, elif statements"
   ]
  },
  {
   "cell_type": "code",
   "execution_count": null,
   "metadata": {},
   "outputs": [],
   "source": [
    "height = int(input(\"What is your height in cm? \"))\n",
    "age = int(input(\"What is your age? \"))\n",
    "\n",
    "if height >= 120: # OR ==, !=\n",
    "  print(\"You are allowed on the rollercoaster.\")\n",
    "  if age < 12: # Can put another 'nested' if statement within the original one. \n",
    "      print(\"Please pay $5.\")\n",
    "  elif age <= 18: # Checks if they're 18 & under, provided they were already found to be over 12.\n",
    "      print(\"This ticket costs $7.\")\n",
    "  elif age <= 21:\n",
    "      print(\"This ticket costs $9.\") # Can have as many elif statements as you need.\n",
    "  else: # 22 and over\n",
    "      print(\"This ticket costs $12.\")\n",
    "\n",
    "else: \n",
    "  print(\"You must grow taller before you can ride.\")"
   ]
  },
  {
   "cell_type": "markdown",
   "metadata": {},
   "source": [
    "### BMI Calcluator 2.0 Exercise"
   ]
  },
  {
   "cell_type": "code",
   "execution_count": 9,
   "metadata": {},
   "outputs": [
    {
     "name": "stdout",
     "output_type": "stream",
     "text": [
      "0.002716691927135463\n"
     ]
    },
    {
     "data": {
      "text/plain": [
       "'\\nif bmi_as_int < 18.5:\\n    print(\"You are underweight.\")\\nelif bmi_as_int > 18.5:\\n    print(\"You are at a normal weight.\")\\nelif bmi_as_int > 25:\\n    print(\"You are slightly overweight.\")\\nelif bmi_as_int > 30:\\n    print(\"You are obese.\")\\nelif bmi_as_int > 35:\\n    print(\"You are clinically obese.\")\\n'"
      ]
     },
     "execution_count": 9,
     "metadata": {},
     "output_type": "execute_result"
    }
   ],
   "source": [
    "# 🚨 Don't change the code below 👇\n",
    "height = input(\"enter your height in m: \")\n",
    "weight = input(\"enter your weight in kg: \")\n",
    "# 🚨 Don't change the code above 👆\n",
    "\n",
    "bmi_height = float(height) # changing height to float, as obviously not everyone's height is an int. \n",
    "bmi_weight = float(weight) # changing weight to float for same reason.\n",
    "\n",
    "print(int(bmi_weight) / bmi_height** 2) # carrying out the BMI calculation, changing back to int, as BMI \n",
    "# is displayed as whole number. \n",
    "\n",
    "'''\n",
    "if bmi_as_int < 18.5:\n",
    "    print(\"You are underweight.\")\n",
    "elif bmi_as_int > 18.5:\n",
    "    print(\"You are at a normal weight.\")\n",
    "elif bmi_as_int > 25:\n",
    "    print(\"You are slightly overweight.\")\n",
    "elif bmi_as_int > 30:\n",
    "    print(\"You are obese.\")\n",
    "elif bmi_as_int > 35:\n",
    "    print(\"You are clinically obese.\")\n",
    "'''"
   ]
  },
  {
   "cell_type": "code",
   "execution_count": null,
   "metadata": {},
   "outputs": [],
   "source": []
  }
 ],
 "metadata": {
  "interpreter": {
   "hash": "dd91f0b4828dce5d53bdac1582cf88369020ea09ea70cc87beaca0f6a0fe11cd"
  },
  "kernelspec": {
   "display_name": "Python 3.9.2 64-bit ('geo_env': conda)",
   "language": "python",
   "name": "python3"
  },
  "language_info": {
   "codemirror_mode": {
    "name": "ipython",
    "version": 3
   },
   "file_extension": ".py",
   "mimetype": "text/x-python",
   "name": "python",
   "nbconvert_exporter": "python",
   "pygments_lexer": "ipython3",
   "version": "3.9.2"
  },
  "orig_nbformat": 4
 },
 "nbformat": 4,
 "nbformat_minor": 2
}
